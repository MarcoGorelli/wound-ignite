{
 "cells": [
  {
   "cell_type": "markdown",
   "metadata": {
    "colab_type": "text",
    "id": "view-in-github"
   },
   "source": [
    "<a href=\"https://colab.research.google.com/github/microprediction/precise/blob/main/examples_m6/m6_competition_entry.ipynb\" target=\"_parent\"><img src=\"https://colab.research.google.com/assets/colab-badge.svg\" alt=\"Open In Colab\"/></a>"
   ]
  },
  {
   "cell_type": "code",
   "execution_count": null,
   "metadata": {
    "id": "U6Mky28wX5y8"
   },
   "outputs": [],
   "source": [
    "!pip install git+https://github.com/microprediction/precise.git"
   ]
  },
  {
   "cell_type": "markdown",
   "metadata": {
    "id": "fY3DQOlwX-MU"
   },
   "source": [
    "## Entering M6 using the precise package\n",
    "The precise package includes [csv examples](https://github.com/microprediction/precise/tree/main/examples_m6/full) of M6 competition entries. This notebook explains how they are created, but you may not be able to use the same data API from Google Colab (try it from your own machine instead). \n"
   ]
  },
  {
   "cell_type": "markdown",
   "metadata": {
    "id": "GnbsOTDna8YX"
   },
   "source": [
    "## The Lazy way\n",
    "There's a script to generate M6 entries using a random choice of methods"
   ]
  },
  {
   "cell_type": "code",
   "execution_count": null,
   "metadata": {
    "id": "9zM9q2CkbEU4"
   },
   "outputs": [],
   "source": [
    "from precise.skatertools.m6.competition import m6_competition_entry\n",
    "random_entry = m6_competition_entry(verbose=False)"
   ]
  },
  {
   "cell_type": "markdown",
   "metadata": {
    "id": "3Itnn0nccZbY"
   },
   "source": [
    "(yeah it will fail to get the data if run on Colab)"
   ]
  },
  {
   "cell_type": "markdown",
   "metadata": {
    "id": "3ZdNt-Hcco6e"
   },
   "source": [
    "## Parameters to mess with\n",
    "\n",
    "           interval - sampling interval to use for cov estimation\n",
    "           n_obs    - number of time points to use in cov estimation (max 60 if interval='m')\n",
    "           n_dim    - Set at 100 for actual contest, but lower to test\n",
    "           port     - A portfolio creator (see /portfolioutil )\n",
    "           f        - A cov skater\n",
    "           extra_shrink - If True, will perform additional shrinkage over and above the skater or portfolio method using\n",
    "               phi      - (Additional) Ridge parameter, suggest (1,1.5)\n",
    "               lmbd     - (Additional) Shrinkage parameter, suggest (0,0.5)\n"
   ]
  },
  {
   "cell_type": "markdown",
   "metadata": {
    "id": "pRZVehHBc0yu"
   },
   "source": [
    "## Change the method of estimating cov\n",
    "Pick a \"skater\" from somewhere in [precise/skaters/covariance](https://github.com/microprediction/precise/tree/main/precise/skaters/covariance)"
   ]
  },
  {
   "cell_type": "code",
   "execution_count": null,
   "metadata": {
    "id": "4Iz6A3WSc3AF"
   },
   "outputs": [],
   "source": [
    "from precise.skaters.covariance.bufhuber import buf_huber_pcov_d0_a05_b2_n100 as f \n",
    "from precise.skaters.covariance.ewapm import ewa_pm_emp_scov_r01_n100_t0 as f \n",
    "entry = m6_competition_entry(f=f, verbose=False)"
   ]
  },
  {
   "cell_type": "markdown",
   "metadata": {
    "id": "CICRLcxsdccF"
   },
   "source": [
    "## Change the portfolio method\n",
    "Pick a \"port\" function from somewhere in [precise/skaters/portfolioutil](https://github.com/microprediction/precise/tree/main/precise/skaters/portfolioutil)"
   ]
  },
  {
   "cell_type": "code",
   "execution_count": null,
   "metadata": {
    "id": "KgvOIh2ddoa2"
   },
   "outputs": [],
   "source": [
    "from precise.skaters.portfolioutil.weak import prc_weak_port as port\n",
    "entry = m6_competition_entry(f=f, port=port, verbose=False)"
   ]
  }
 ],
 "metadata": {
  "colab": {
   "authorship_tag": "ABX9TyNGzwgumNFE0UrfT87aFfBM",
   "include_colab_link": true,
   "name": "m6_competition_entry.ipynb",
   "provenance": []
  },
  "kernelspec": {
   "display_name": "Python 3",
   "name": "python3"
  },
  "language_info": {
   "name": "python"
  }
 },
 "nbformat": 4,
 "nbformat_minor": 0
}
