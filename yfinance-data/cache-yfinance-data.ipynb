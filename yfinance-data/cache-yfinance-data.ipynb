{
 "cells": [
  {
   "cell_type": "code",
   "execution_count": null,
   "metadata": {
    "_cell_guid": "b1076dfc-b9ad-4769-8c92-a6c4dae69d19",
    "_uuid": "8f2839f25d086af736a60e9eeb907d3b93b6e0e5"
   },
   "outputs": [],
   "source": [
    "# This Python 3 environment comes with many helpful analytics libraries installed\n",
    "# It is defined by the kaggle/python Docker image: https://github.com/kaggle/docker-python\n",
    "# For example, here's several helpful packages to load\n",
    "\n",
    "import numpy as np # linear algebra\n",
    "import pandas as pd # data processing, CSV file I/O (e.g. pd.read_csv)\n",
    "\n",
    "# Input data files are available in the read-only \"../input/\" directory\n",
    "# For example, running this (by clicking run or pressing Shift+Enter) will list all files under the input directory\n",
    "\n",
    "import os\n",
    "for dirname, _, filenames in os.walk('/kaggle/input'):\n",
    "    for filename in filenames:\n",
    "        print(os.path.join(dirname, filename))\n",
    "\n",
    "# You can write up to 20GB to the current directory (/kaggle/working/) that gets preserved as output when you create a version using \"Save & Run All\" \n",
    "# You can also write temporary files to /kaggle/temp/, but they won't be saved outside of the current session"
   ]
  },
  {
   "cell_type": "code",
   "execution_count": null,
   "metadata": {},
   "outputs": [],
   "source": [
    "pip install yfinance==0.1.74"
   ]
  },
  {
   "cell_type": "code",
   "execution_count": null,
   "metadata": {},
   "outputs": [],
   "source": [
    "import yfinance as yf\n",
    "\n",
    "#The M6 asset universe\n",
    "assets = [\n",
    "  \"ABBV\",\"ACN\",\"AEP\",\"AIZ\",\"ALLE\",\"AMAT\",\"AMP\",\"AMZN\",\"AVB\",\"AVY\",\n",
    "  \"AXP\",\"BDX\",\"BF-B\",\"BMY\",\"BR\",\"CARR\",\"CDW\",\"CE\",\"CHTR\",\"CNC\",\n",
    "  \"CNP\",\"COP\",\"CTAS\",\"CZR\",\"DG\",\"DPZ\",\"PLD\",\"DXC\",\"META\",\"FTV\",\n",
    "  \"GOOG\",\"GPC\",\"HIG\",\"HST\",\"JPM\",\"KR\",\"OGN\",\"PG\",\"PPL\",\"PRU\",\n",
    "  \"PYPL\",\"RE\",\"ROL\",\"ROST\",\"UNH\",\"URI\",\"V\",\"VRSK\",\"WRK\",\"XOM\",\n",
    "  \"IVV\",\"IWM\",\"EWU\",\"EWG\",\"EWL\",\"EWQ\",\"IEUS\",\"EWJ\",\"EWT\",\"MCHI\",\n",
    "  \"INDA\",\"EWY\",\"EWA\",\"EWH\",\"EWZ\",\"EWC\",\"IEMG\",\"LQD\",\"HYG\",\"SHY\",\n",
    "  \"IEF\",\"TLT\",\"SEGA.L\",\"IEAA.L\",\"HIGH.L\",\"JPEA.L\",\"IAU\",\"SLV\",\"GSG\",\"REET\",\n",
    "  \"ICLN\",\"IXN\",\"IGF\",\"IUVL.L\",\"IUMO.L\",\"SPMV.L\",\"IEVL.L\",\"IEFM.L\",\"MVEU.L\",\"XLK\",\n",
    "  \"XLF\",\"XLV\",\"XLE\",\"XLY\",\"XLI\",\"XLC\",\"XLU\",\"XLP\",\"XLB\",\"VXX\"]\n",
    "\n",
    "#Download historical data (select starting date)\n",
    "starting_date = \"2019-01-01\"\n",
    "\n",
    "data = yf.download(assets, start=starting_date)\n",
    "data.index = data.index.tz_localize(None)\n",
    "prices = data['Adj Close']\n",
    "\n",
    "for col in data.columns.get_level_values(level=0).unique():\n",
    "    (\n",
    "        data[col]\n",
    "        .reset_index()\n",
    "        .assign(Date=lambda x: x['Date'].dt.strftime('%Y-%m-%d'))\n",
    "        .groupby('Date')\n",
    "        .mean()\n",
    "        .reset_index()\n",
    "        .to_csv(f'data_{col}.csv', index=False)\n",
    "    )"
   ]
  },
  {
   "cell_type": "code",
   "execution_count": null,
   "metadata": {},
   "outputs": [],
   "source": []
  }
 ],
 "metadata": {
  "kernelspec": {
   "display_name": "Python 3 (ipykernel)",
   "language": "python",
   "name": "python3"
  },
  "language_info": {
   "codemirror_mode": {
    "name": "ipython",
    "version": 3
   },
   "file_extension": ".py",
   "mimetype": "text/x-python",
   "name": "python",
   "nbconvert_exporter": "python",
   "pygments_lexer": "ipython3",
   "version": "3.10.6"
  }
 },
 "nbformat": 4,
 "nbformat_minor": 4
}
