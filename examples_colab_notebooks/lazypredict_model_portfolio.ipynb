{
 "cells": [
  {
   "cell_type": "markdown",
   "metadata": {
    "colab_type": "text",
    "id": "view-in-github"
   },
   "source": [
    "<a href=\"https://colab.research.google.com/github/microprediction/precise/blob/main/examples_colab_notebooks/lazypredict_model_portfolio.ipynb\" target=\"_parent\"><img src=\"https://colab.research.google.com/assets/colab-badge.svg\" alt=\"Open In Colab\"/></a>"
   ]
  },
  {
   "cell_type": "code",
   "execution_count": null,
   "metadata": {
    "id": "u3HDL5HJ7Uyl"
   },
   "outputs": [],
   "source": [
    "!pip install lazypredict\n",
    "!pip install precise\n",
    "!pip install --upgrade pandas "
   ]
  },
  {
   "cell_type": "markdown",
   "metadata": {
    "id": "Na-iVvJo7cuK"
   },
   "source": [
    "## Using LazyPredict and Precise to construct a portfolio of models \n",
    "\n",
    "\n",
    "*   [LazyPredict](https://github.com/shankarpandala/lazypredict) is a package that generates a slew of sklearn models \n",
    "*   [Precise](https://github.com/microprediction/precise) is a package that builds portfolios. \n",
    "\n",
    "Let's see if a convex combination (long portfolio) of models performs better than just picking the best out of sample model. I use the data example pulled straight from the LazyPredict README, in turn borrowed from sklearn. "
   ]
  },
  {
   "cell_type": "code",
   "execution_count": null,
   "metadata": {
    "colab": {
     "base_uri": "https://localhost:8080/"
    },
    "id": "mKg4i7Ye73Yp",
    "outputId": "838b1691-e302-414f-baf1-c152234b838c"
   },
   "outputs": [],
   "source": [
    "from sklearn import datasets\n",
    "from sklearn.utils import shuffle\n",
    "import numpy as np\n",
    "from pprint import pprint\n",
    "from lazypredict.Supervised import LazyRegressor"
   ]
  },
  {
   "cell_type": "markdown",
   "metadata": {
    "id": "AEkC0YOe8xtL"
   },
   "source": [
    "Here's what we do: \n",
    "\n",
    "1.  Train on X_train, y_train\n",
    "2.  Select best based on X_test, y_test out of sample performance\n",
    "3.  Retrain on X_train+X_test\n",
    "4.  Estimate portfolio using X_test,y_test covariance\n",
    "5.  Compare the val performance of:\n",
    "    - The best model from step 2, retrained in step 3.\n",
    "    - A weighted combination of models from step 4.\n",
    "\n",
    "\n",
    "\n",
    "\n",
    "\n"
   ]
  },
  {
   "cell_type": "code",
   "execution_count": null,
   "metadata": {
    "colab": {
     "base_uri": "https://localhost:8080/"
    },
    "id": "lDwvX9YD8lr8",
    "outputId": "251632ee-68ba-4342-c490-039c05772a3b"
   },
   "outputs": [],
   "source": [
    "boston = datasets.load_boston()\n",
    "X, y = shuffle(boston.data, boston.target)\n",
    "X = X.astype(np.float32)\n",
    "n_train = 100\n",
    "n_test = 50\n",
    "X_train, y_train = X[:n_train], y[:n_train]\n",
    "X_test, y_test = X[n_train:(n_train+n_test)], y[n_train:(n_train+n_test)]\n",
    "X_val, y_val = X[(n_train+n_test):], y[(n_train+n_test):]\n",
    "X_train_and_test = X[:(n_train+n_test)]\n",
    "y_train_and_test = y[:(n_train+n_test)]\n",
    "\n",
    "# Train on some, predict test\n",
    "reg1 = LazyRegressor(verbose=0, ignore_warnings=False, custom_metric=None, predictions=True)\n",
    "models1, predictions1 = reg1.fit(np.copy(X_train), np.copy(X_test), np.copy(y_train), np.copy(y_test))\n",
    "print(models1[:5])\n",
    "\n",
    "# Train on some, predict validation\n",
    "reg2 = LazyRegressor(verbose=0, ignore_warnings=False, custom_metric=None, predictions=True)\n",
    "X_train_and_test_copy = np.copy(X_train_and_test)\n",
    "X_val_copy = np.copy(X_val)\n",
    "models2, predictions2 = reg2.fit(X_train_and_test_copy, X_val_copy, np.copy(y_train_and_test), np.copy(y_val))\n",
    "yhat_val = predictions2.values\n",
    "print(models2[:5])\n",
    "\n",
    "# In-sample performance on train\n",
    "reg3 = LazyRegressor(verbose=0, ignore_warnings=False, custom_metric=None, predictions=True)\n",
    "models3, predictions3 = reg3.fit(np.copy(X_train), np.copy(X_train), np.copy(y_train), np.copy(y_train))\n",
    "\n",
    "# In-sample performance on train + test\n",
    "reg4 = LazyRegressor(verbose=0, ignore_warnings=False, custom_metric=None, predictions=True)\n",
    "models4, predictions4 = reg4.fit(np.copy(X_train_and_test), np.copy(X_train_and_test), np.copy(y_train_and_test), np.copy(y_train_and_test))\n",
    "\n",
    "best_model_1 = models1.index[0]  # <-- Best out of sample on test\n",
    "best_model_2 = models3.index[0]  # <-- Best in sample on train\n",
    "best_model_3 = models4.index[0]  # <-- Best in sample on train+test\n",
    "\n",
    "# Train cov on out of sample prediction errors\n",
    "print('Creating portfolio ...')\n",
    "from precise.skaters.managers.ppomanagers import ppo_sk_glcv_pcov_d0_n100_t0_vol_long_manager as mgr\n",
    "s = {}\n",
    "yhat_test = np.copy(predictions1.values)\n",
    "n_test = len(yhat_test)\n",
    "es = [-1]*(n_test-1)+[1]\n",
    "for y, y_target,e in zip(yhat_test, y_test,es):\n",
    "    y_error = np.copy(y-y_target)\n",
    "    w, s = mgr(s=s, y=y_error, e=e)\n",
    "\n",
    "w_dict = sorted([(wi,mi) for (wi,mi) in zip(w, models1.index) if wi>0], reverse=True)\n",
    "pprint(w_dict)\n",
    "\n",
    "# Refit models using all the train+test data, and combine\n",
    "sum_w = sum(w)\n",
    "yhat_weighted = np.dot( yhat_val, w )\n",
    "predictions2['>> weighted portfolio of models '] = yhat_weighted\n",
    "predictions2['>> best out of sample model  (' + best_model_1 + ')'] = predictions2[best_model_1]\n",
    "predictions2['>> best in sample i (' + best_model_2 + ')'] = predictions2[best_model_2]\n",
    "predictions2['>> best in sample ii (' + best_model_3 + ')'] = predictions2[best_model_3]\n",
    "\n",
    "val_errors = predictions2.copy()\n",
    "for col in predictions2.columns:\n",
    "    val_errors[col] = predictions2[col] - y_val\n",
    "\n",
    "sq_errors = val_errors**2\n",
    "print(sq_errors.mean().sort_values())\n",
    "print('done')\n"
   ]
  }
 ],
 "metadata": {
  "colab": {
   "authorship_tag": "ABX9TyP/x6PBq+WIa3YrUK6W85K8",
   "include_colab_link": true,
   "name": "lazypredict_model_portfolio.ipynb",
   "provenance": []
  },
  "kernelspec": {
   "display_name": "Python 3",
   "name": "python3"
  },
  "language_info": {
   "name": "python"
  }
 },
 "nbformat": 4,
 "nbformat_minor": 0
}
