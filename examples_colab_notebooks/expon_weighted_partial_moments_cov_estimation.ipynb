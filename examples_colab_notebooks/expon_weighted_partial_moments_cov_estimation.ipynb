{
 "cells": [
  {
   "cell_type": "markdown",
   "metadata": {
    "colab_type": "text",
    "id": "view-in-github"
   },
   "source": [
    "<a href=\"https://colab.research.google.com/github/microprediction/precise/blob/main/examples_colab_notebooks/expon_weighted_partial_moments_cov_estimation.ipynb\" target=\"_parent\"><img src=\"https://colab.research.google.com/assets/colab-badge.svg\" alt=\"Open In Colab\"/></a>"
   ]
  },
  {
   "cell_type": "code",
   "execution_count": null,
   "metadata": {
    "id": "U6Mky28wX5y8"
   },
   "outputs": [],
   "source": [
    "!pip install git+https://github.com/microprediction/precise.git"
   ]
  },
  {
   "cell_type": "markdown",
   "metadata": {
    "id": "fY3DQOlwX-MU"
   },
   "source": [
    "Illustrates use of the precise package\n",
    "\n",
    "\n",
    "\n",
    "1.   Pick a skater\n",
    "2.   Run it\n",
    "\n"
   ]
  },
  {
   "cell_type": "code",
   "execution_count": null,
   "metadata": {
    "colab": {
     "base_uri": "https://localhost:8080/"
    },
    "id": "Gbi01UFRYJwb",
    "outputId": "a8accdd1-3f49-4080-fcbb-40208b247d3c"
   },
   "outputs": [],
   "source": [
    "from precise.skatertools.syntheticdata.miscellaneous import create_correlated_dataset\n",
    "from precise.skaters.covariance.ewapm import ewa_pm_emp_scov_r01 # <- skater\n",
    "from pprint import pprint\n",
    "\n",
    "if __name__=='__main__':\n",
    "    ys = create_correlated_dataset(n=500)\n",
    "    s = {}   # <-- Note the initialization of state as empty dict\n",
    "    for y in ys:\n",
    "        x, x_cov, s = ewa_pm_emp_scov_r01(s=s, y=y)\n",
    "    pprint(x_cov)"
   ]
  },
  {
   "cell_type": "markdown",
   "metadata": {
    "id": "M2UPPFKeYcTj"
   },
   "source": [
    "If you care to peek you can look at the state too. In particular, this skater maintains four different covariance matrices using data conditioned on up/down moves. "
   ]
  },
  {
   "cell_type": "code",
   "execution_count": null,
   "metadata": {
    "colab": {
     "base_uri": "https://localhost:8080/"
    },
    "id": "G2Klm0PPYbUL",
    "outputId": "69452018-3f78-4759-877c-c7e9d954bae6"
   },
   "outputs": [],
   "source": [
    "partials = ['cu','du','dl','cl']\n",
    "for pt in partials:\n",
    "  pprint((pt,s[pt]['scov'])) # <-- Partial sample covariance "
   ]
  },
  {
   "cell_type": "code",
   "execution_count": null,
   "metadata": {
    "colab": {
     "base_uri": "https://localhost:8080/"
    },
    "id": "C92FvAgXbK8T",
    "outputId": "4614e31c-567b-4125-d86a-12f77dc0b80d"
   },
   "outputs": [],
   "source": [
    "# The reported cov estimate is almost the sum of these four\n",
    "import numpy as np \n",
    "c_check = np.zeros((3,3))\n",
    "for pt in partials:\n",
    "  c_check = c_check + s[pt]['scov']\n",
    "pprint(c_check)\n",
    "print(c_check/x_cov)"
   ]
  },
  {
   "cell_type": "code",
   "execution_count": null,
   "metadata": {
    "id": "I1Q6B70wb5nN"
   },
   "outputs": [],
   "source": []
  }
 ],
 "metadata": {
  "colab": {
   "authorship_tag": "ABX9TyNWvqIeuENOVE70C3EZcsgX",
   "include_colab_link": true,
   "name": "expon_weighted_partial_moments_cov_estimation.ipynb",
   "provenance": []
  },
  "kernelspec": {
   "display_name": "Python 3",
   "name": "python3"
  },
  "language_info": {
   "name": "python"
  }
 },
 "nbformat": 4,
 "nbformat_minor": 0
}
