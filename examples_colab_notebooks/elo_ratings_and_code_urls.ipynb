{
 "cells": [
  {
   "cell_type": "markdown",
   "metadata": {
    "colab_type": "text",
    "id": "view-in-github"
   },
   "source": [
    "<a href=\"https://colab.research.google.com/github/microprediction/precise/blob/main/examples_colab_notebooks/elo_ratings_and_code_urls.ipynb\" target=\"_parent\"><img src=\"https://colab.research.google.com/assets/colab-badge.svg\" alt=\"Open In Colab\"/></a>"
   ]
  },
  {
   "cell_type": "code",
   "execution_count": null,
   "metadata": {
    "id": "SIHJnIVINZ7b"
   },
   "outputs": [],
   "source": [
    "!pip install git+https://github.com/microprediction/precise.git"
   ]
  },
  {
   "cell_type": "markdown",
   "metadata": {
    "id": "Cd0J8WX-RelH"
   },
   "source": [
    "### Report current Elo ratings\n",
    "Be a little patient"
   ]
  },
  {
   "cell_type": "code",
   "execution_count": null,
   "metadata": {
    "id": "Qy-f0jV3NkGn"
   },
   "outputs": [],
   "source": [
    "from precise.skatervaluation.battleutil.compilingeloratings import elo_from_win_files\n",
    "from pprint import pprint \n",
    "elos = elo_from_win_files()"
   ]
  },
  {
   "cell_type": "code",
   "execution_count": null,
   "metadata": {
    "colab": {
     "base_uri": "https://localhost:8080/"
    },
    "id": "61YqUwxpUnMy",
    "outputId": "65eb557f-c59f-4b64-a3b3-e05454ad89d7"
   },
   "outputs": [],
   "source": [
    "the_categories = [c for c,_ in elos]\n",
    "print(the_categories)"
   ]
  },
  {
   "cell_type": "code",
   "execution_count": null,
   "metadata": {
    "colab": {
     "base_uri": "https://localhost:8080/"
    },
    "id": "JMz5kyDwSR_f",
    "outputId": "b122171d-54e0-45e0-d006-e11c3d06400b"
   },
   "outputs": [],
   "source": [
    "pprint(elos)"
   ]
  },
  {
   "cell_type": "markdown",
   "metadata": {
    "id": "jOL4sI47R1vD"
   },
   "source": [
    "## Print Elos and code locations"
   ]
  },
  {
   "cell_type": "code",
   "execution_count": null,
   "metadata": {
    "colab": {
     "base_uri": "https://localhost:8080/"
    },
    "id": "ASbpDgVpR4_6",
    "outputId": "7bffa6e8-0cf4-4b5a-eb75-9df21339b97d"
   },
   "outputs": [],
   "source": [
    "from precise.whereami import url_from_skater_name\n",
    "n_top = 15 # <-- Number to print per category\n",
    "results_with_urls = dict()\n",
    "for cat, cat_elos in elos:\n",
    "    elos_w_code = sorted( [ (rating,name, url_from_skater_name(name)) for name,rating in cat_elos.items()],reverse=True)[:n_top]\n",
    "    results_with_urls[cat] = elos_w_code\n",
    "pprint(results_with_urls)"
   ]
  }
 ],
 "metadata": {
  "colab": {
   "authorship_tag": "ABX9TyOn7972shpERxb+yssB4/aB",
   "include_colab_link": true,
   "name": "elo_ratings_and_code_urls.ipynb",
   "provenance": []
  },
  "kernelspec": {
   "display_name": "Python 3",
   "name": "python3"
  },
  "language_info": {
   "name": "python"
  }
 },
 "nbformat": 4,
 "nbformat_minor": 0
}
