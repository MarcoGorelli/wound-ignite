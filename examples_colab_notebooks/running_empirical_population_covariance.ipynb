{
 "cells": [
  {
   "cell_type": "markdown",
   "metadata": {
    "colab_type": "text",
    "id": "view-in-github"
   },
   "source": [
    "<a href=\"https://colab.research.google.com/github/microprediction/precise/blob/main/examples_colab_notebooks/running_empirical_population_covariance.ipynb\" target=\"_parent\"><img src=\"https://colab.research.google.com/assets/colab-badge.svg\" alt=\"Open In Colab\"/></a>"
   ]
  },
  {
   "cell_type": "code",
   "execution_count": null,
   "metadata": {
    "id": "U6Mky28wX5y8"
   },
   "outputs": [],
   "source": [
    "!pip install git+https://github.com/microprediction/precise.git"
   ]
  },
  {
   "cell_type": "markdown",
   "metadata": {
    "id": "fY3DQOlwX-MU"
   },
   "source": [
    "Example to illustrate usage style of the precise package"
   ]
  },
  {
   "cell_type": "code",
   "execution_count": null,
   "metadata": {
    "colab": {
     "base_uri": "https://localhost:8080/"
    },
    "id": "Gbi01UFRYJwb",
    "outputId": "19960e68-9f6f-47a4-b443-e0c65d4c9619"
   },
   "outputs": [],
   "source": [
    "from precise.skatertools.syntheticdata.miscellaneous import create_correlated_dataset\n",
    "from precise.skaters.covariance.runemp import run_emp_pcov_d0\n",
    "from pprint import pprint\n",
    "\n",
    "# Basic example of running empirical population covariance\n",
    "\n",
    "if __name__=='__main__':\n",
    "    ys = create_correlated_dataset(n=500)\n",
    "    s = {}\n",
    "    for y in ys:\n",
    "        x, x_cov, s = run_emp_pcov_d0(s=s, y=y)\n",
    "    pprint(x_cov)"
   ]
  },
  {
   "cell_type": "markdown",
   "metadata": {
    "id": "M2UPPFKeYcTj"
   },
   "source": [
    "If you care to peek you can look at the state too"
   ]
  },
  {
   "cell_type": "code",
   "execution_count": null,
   "metadata": {
    "colab": {
     "base_uri": "https://localhost:8080/"
    },
    "id": "G2Klm0PPYbUL",
    "outputId": "7484b5cb-4944-43c4-93af-c642511a7952"
   },
   "outputs": [],
   "source": [
    "pprint(s)"
   ]
  }
 ],
 "metadata": {
  "colab": {
   "authorship_tag": "ABX9TyNFztYRkxax7JfClcGxKFqu",
   "include_colab_link": true,
   "name": "running_empirical_population_covariance.ipynb",
   "provenance": []
  },
  "kernelspec": {
   "display_name": "Python 3",
   "name": "python3"
  },
  "language_info": {
   "name": "python"
  }
 },
 "nbformat": 4,
 "nbformat_minor": 0
}
