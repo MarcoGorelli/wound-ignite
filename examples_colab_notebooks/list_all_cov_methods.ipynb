{
 "cells": [
  {
   "cell_type": "markdown",
   "metadata": {
    "colab_type": "text",
    "id": "view-in-github"
   },
   "source": [
    "<a href=\"https://colab.research.google.com/github/microprediction/precise/blob/main/examples_colab_notebooks/list_all_cov_methods.ipynb\" target=\"_parent\"><img src=\"https://colab.research.google.com/assets/colab-badge.svg\" alt=\"Open In Colab\"/></a>"
   ]
  },
  {
   "cell_type": "code",
   "execution_count": null,
   "metadata": {
    "id": "v-nV0Me7W-M6"
   },
   "outputs": [],
   "source": [
    "!pip install git+https://github.com/microprediction/precise.git"
   ]
  },
  {
   "cell_type": "markdown",
   "metadata": {
    "id": "37tVjouhXJFm"
   },
   "source": [
    "(package is pretty fluid so grab latest)"
   ]
  },
  {
   "cell_type": "code",
   "execution_count": null,
   "metadata": {
    "colab": {
     "base_uri": "https://localhost:8080/"
    },
    "id": "clyXxbhmXP9u",
    "outputId": "d65f0e8c-7a70-4ae3-8ea4-c85030f6c341"
   },
   "outputs": [],
   "source": [
    "from pprint import pprint \n",
    "from precise.skaters.covariance.allcovskaters import cov_skater_manifest\n",
    "pprint(cov_skater_manifest())"
   ]
  }
 ],
 "metadata": {
  "colab": {
   "authorship_tag": "ABX9TyNvEjE0t01CzeYRN1vgxESG",
   "include_colab_link": true,
   "name": "list_all_cov_methods.ipynb",
   "provenance": []
  },
  "kernelspec": {
   "display_name": "Python 3",
   "name": "python3"
  },
  "language_info": {
   "name": "python"
  }
 },
 "nbformat": 4,
 "nbformat_minor": 0
}
