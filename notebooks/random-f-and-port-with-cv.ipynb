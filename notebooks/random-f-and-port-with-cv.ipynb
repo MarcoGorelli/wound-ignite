{
 "cells": [
  {
   "cell_type": "code",
   "execution_count": null,
   "metadata": {
    "_cell_guid": "b1076dfc-b9ad-4769-8c92-a6c4dae69d19",
    "_uuid": "8f2839f25d086af736a60e9eeb907d3b93b6e0e5"
   },
   "outputs": [],
   "source": [
    "#### This Python 3 environment comes with many helpful analytics libraries installed\n",
    "# It is defined by the kaggle/python Docker image: https://github.com/kaggle/docker-python\n",
    "# For example, here's several helpful packages to load\n",
    "\n",
    "import numpy as np # linear algebra\n",
    "import pandas as pd # data processing, CSV file I/O (e.g. pd.read_csv)\n",
    "\n",
    "# Input data files are available in the read-only \"../input/\" directory\n",
    "# For example, running this (by clicking run or pressing Shift+Enter) will list all files under the input directory\n",
    "\n",
    "import os\n",
    "for dirname, _, filenames in os.walk('/kaggle/input'):\n",
    "    for filename in filenames:\n",
    "        print(os.path.join(dirname, filename))\n",
    "\n",
    "# You can write up to 20GB to the current directory (/kaggle/working/) that gets preserved as output when you create a version using \"Save & Run All\" \n",
    "# You can also write temporary files to /kaggle/temp/, but they won't be saved outside of the current session"
   ]
  },
  {
   "cell_type": "code",
   "execution_count": null,
   "metadata": {},
   "outputs": [],
   "source": [
    "from kaggle_secrets import UserSecretsClient\n",
    "user_secrets = UserSecretsClient()\n",
    "token = user_secrets.get_secret(\"github\")"
   ]
  },
  {
   "cell_type": "code",
   "execution_count": null,
   "metadata": {},
   "outputs": [],
   "source": [
    "!pip install git+https://{token}@github.com/MarcoGorelli/wound-ignite.git@c299f7b"
   ]
  },
  {
   "cell_type": "code",
   "execution_count": null,
   "metadata": {},
   "outputs": [],
   "source": [
    "from precise.skatertools.m6.competition import m6_competition_entry, m6_dump\n",
    "from precise.whereami import M6_EXAMPLES\n",
    "import os\n",
    "import time\n",
    "import json\n",
    "import argparse\n",
    "import pandas as pd\n",
    "\n",
    "from precise.skaters.covariance.allcovskaters import ALL_D0_SKATERS\n",
    "from precise.skaters.portfoliostatic.allstaticport import  PORT\n",
    "from tqdm.notebook import tqdm\n",
    "\n",
    "# Example of creating an M6 Competition entry using random choice of cov estimation and port construction\n",
    "THIS_F = 0\n",
    "THIS_PORT = 0\n",
    "SCALE_W = 0\n",
    "fs = [i for i in range(len(ALL_D0_SKATERS)) if i not in range(10, 20)]\n",
    "ports = [THIS_PORT]*len(fs)\n",
    "\n",
    "for f, port in zip(fs, ports):\n",
    "    for last_date in pd.date_range('2022-02-05', pd.Timestamp.now(), freq='4W-Sat')[-3:]:\n",
    "        try:\n",
    "            df = m6_competition_entry(\n",
    "                f=ALL_D0_SKATERS[f],\n",
    "                port=PORT[port],\n",
    "                last_date=last_date,\n",
    "                cache_path='/kaggle/input/precise-cache/',\n",
    "                scale_w=SCALE_W,\n",
    "            )\n",
    "            name = f'{f}_{port}_{last_date}.csv'\n",
    "            m6_dump(df=df,file_name=name)\n",
    "        except Exception as e:\n",
    "            print(repr(e))\n",
    "            pass\n"
   ]
  },
  {
   "cell_type": "code",
   "execution_count": null,
   "metadata": {},
   "outputs": [],
   "source": []
  }
 ],
 "metadata": {
  "kernelspec": {
   "display_name": "Python 3 (ipykernel)",
   "language": "python",
   "name": "python3"
  },
  "language_info": {
   "codemirror_mode": {
    "name": "ipython",
    "version": 3
   },
   "file_extension": ".py",
   "mimetype": "text/x-python",
   "name": "python",
   "nbconvert_exporter": "python",
   "pygments_lexer": "ipython3",
   "version": "3.10.6"
  }
 },
 "nbformat": 4,
 "nbformat_minor": 4
}
