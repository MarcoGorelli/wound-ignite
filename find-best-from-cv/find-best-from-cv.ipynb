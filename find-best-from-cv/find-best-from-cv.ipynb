{
 "cells": [
  {
   "cell_type": "code",
   "execution_count": null,
   "metadata": {
    "_cell_guid": "b1076dfc-b9ad-4769-8c92-a6c4dae69d19",
    "_uuid": "8f2839f25d086af736a60e9eeb907d3b93b6e0e5",
    "execution": {
     "iopub.execute_input": "2022-05-28T17:32:42.005253Z",
     "iopub.status.busy": "2022-05-28T17:32:42.004537Z",
     "iopub.status.idle": "2022-05-28T17:32:42.038347Z",
     "shell.execute_reply": "2022-05-28T17:32:42.037469Z",
     "shell.execute_reply.started": "2022-05-28T17:32:42.005118Z"
    }
   },
   "outputs": [],
   "source": [
    "# This Python 3 environment comes with many helpful analytics libraries installed\n",
    "# It is defined by the kaggle/python Docker image: https://github.com/kaggle/docker-python\n",
    "# For example, here's several helpful packages to load\n",
    "\n",
    "import numpy as np # linear algebra\n",
    "import pandas as pd # data processing, CSV file I/O (e.g. pd.read_csv)\n",
    "\n",
    "# Input data files are available in the read-only \"../input/\" directory\n",
    "# For example, running this (by clicking run or pressing Shift+Enter) will list all files under the input directory\n",
    "\n",
    "import os\n",
    "for dirname, _, filenames in os.walk('/kaggle/input'):\n",
    "    for filename in filenames:\n",
    "        print(os.path.join(dirname, filename))\n",
    "\n",
    "# You can write up to 20GB to the current directory (/kaggle/working/) that gets preserved as output when you create a version using \"Save & Run All\" \n",
    "# You can also write temporary files to /kaggle/temp/, but they won't be saved outside of the current session"
   ]
  },
  {
   "cell_type": "code",
   "execution_count": null,
   "metadata": {
    "execution": {
     "iopub.execute_input": "2022-05-28T17:32:42.164296Z",
     "iopub.status.busy": "2022-05-28T17:32:42.163942Z",
     "iopub.status.idle": "2022-05-28T17:32:42.176876Z",
     "shell.execute_reply": "2022-05-28T17:32:42.175874Z",
     "shell.execute_reply.started": "2022-05-28T17:32:42.164267Z"
    }
   },
   "outputs": [],
   "source": [
    "rps = pd.read_csv('/kaggle/input/check-cv-results/rps.csv')\n"
   ]
  },
  {
   "cell_type": "code",
   "execution_count": null,
   "metadata": {},
   "outputs": [],
   "source": [
    "rps[rps['std'].notna()].sort_values('max')"
   ]
  },
  {
   "cell_type": "code",
   "execution_count": null,
   "metadata": {
    "execution": {
     "iopub.execute_input": "2022-05-28T17:32:42.308391Z",
     "iopub.status.busy": "2022-05-28T17:32:42.307291Z",
     "iopub.status.idle": "2022-05-28T17:32:42.312832Z",
     "shell.execute_reply": "2022-05-28T17:32:42.311656Z",
     "shell.execute_reply.started": "2022-05-28T17:32:42.308348Z"
    }
   },
   "outputs": [],
   "source": [
    "candidates = rps[\n",
    "    (rps['max']<.1598)\n",
    "    &(rps['std'].notna())\n",
    "].copy()"
   ]
  },
  {
   "cell_type": "code",
   "execution_count": null,
   "metadata": {
    "execution": {
     "iopub.execute_input": "2022-05-28T17:32:42.445738Z",
     "iopub.status.busy": "2022-05-28T17:32:42.445143Z",
     "iopub.status.idle": "2022-05-28T17:32:42.470562Z",
     "shell.execute_reply": "2022-05-28T17:32:42.469624Z",
     "shell.execute_reply.started": "2022-05-28T17:32:42.445701Z"
    }
   },
   "outputs": [],
   "source": [
    "candidates"
   ]
  },
  {
   "cell_type": "code",
   "execution_count": null,
   "metadata": {
    "execution": {
     "iopub.execute_input": "2022-05-28T17:32:42.566694Z",
     "iopub.status.busy": "2022-05-28T17:32:42.566075Z",
     "iopub.status.idle": "2022-05-28T17:32:42.604138Z",
     "shell.execute_reply": "2022-05-28T17:32:42.60316Z",
     "shell.execute_reply.started": "2022-05-28T17:32:42.566647Z"
    }
   },
   "outputs": [],
   "source": [
    "ir = pd.read_csv('/kaggle/input/check-cv-results/ir.csv')\n",
    "ir = ir.set_index(['f', 'port', 'scaling'])\n",
    "for col in ir.columns:\n",
    "    candidates[col] = candidates.set_index(['f', 'port', 'scaling']).index.map(ir[col])\n",
    "\n",
    "candidates = candidates[candidates[ir.columns].notna().all(axis=1)].copy().reset_index(drop=True)"
   ]
  },
  {
   "cell_type": "code",
   "execution_count": null,
   "metadata": {
    "execution": {
     "iopub.execute_input": "2022-05-28T17:32:42.653946Z",
     "iopub.status.busy": "2022-05-28T17:32:42.653533Z",
     "iopub.status.idle": "2022-05-28T17:32:45.240463Z",
     "shell.execute_reply": "2022-05-28T17:32:45.239441Z",
     "shell.execute_reply.started": "2022-05-28T17:32:42.653892Z"
    }
   },
   "outputs": [],
   "source": [
    "import plotly.express as px\n",
    "import plotly.graph_objects as go\n",
    "\n",
    "fig = px.line(candidates[ir.columns])\n",
    "colours = ['blue', 'red', 'green']\n",
    "for i, (key, val) in enumerate(candidates[ir.columns].mean().to_dict().items()):\n",
    "    fig.add_shape(type='line',\n",
    "                x0=0,\n",
    "                y0=val,\n",
    "                x1=len(candidates),\n",
    "                y1=val,\n",
    "                line=dict(color=colours[i],),\n",
    "                xref='x',\n",
    "                yref='y'\n",
    ")\n",
    "fig"
   ]
  },
  {
   "cell_type": "code",
   "execution_count": null,
   "metadata": {},
   "outputs": [],
   "source": [
    "naive_baseline = pd.read_csv('/kaggle/input/check-naive-cv/ir_results.csv').iloc[:, 0]\n",
    "naive_baseline"
   ]
  },
  {
   "cell_type": "code",
   "execution_count": null,
   "metadata": {
    "execution": {
     "iopub.execute_input": "2022-05-28T17:32:45.242427Z",
     "iopub.status.busy": "2022-05-28T17:32:45.242015Z",
     "iopub.status.idle": "2022-05-28T17:32:45.263541Z",
     "shell.execute_reply": "2022-05-28T17:32:45.262841Z",
     "shell.execute_reply.started": "2022-05-28T17:32:45.242397Z"
    }
   },
   "outputs": [],
   "source": [
    "final_candidates = candidates[\n",
    "    (candidates[ir.columns[0]]>=naive_baseline.iloc[0])\n",
    "    &(candidates[ir.columns[1]]>=naive_baseline.iloc[1])\n",
    "    &(candidates[ir.columns[2]]>=naive_baseline.iloc[2])\n",
    "]\n",
    "final_candidates"
   ]
  },
  {
   "cell_type": "code",
   "execution_count": null,
   "metadata": {},
   "outputs": [],
   "source": [
    "# ok, these are all the ones we'll use"
   ]
  },
  {
   "cell_type": "code",
   "execution_count": null,
   "metadata": {},
   "outputs": [],
   "source": [
    "final_candidates['f'].tolist()"
   ]
  },
  {
   "cell_type": "code",
   "execution_count": null,
   "metadata": {},
   "outputs": [],
   "source": [
    "final_candidates['port'].tolist()"
   ]
  },
  {
   "cell_type": "code",
   "execution_count": null,
   "metadata": {},
   "outputs": [],
   "source": [
    "final_candidates['scaling'].tolist()"
   ]
  },
  {
   "cell_type": "code",
   "execution_count": null,
   "metadata": {},
   "outputs": [],
   "source": [
    "final_candidates.to_csv('final_candidates.csv', index=False)"
   ]
  }
 ],
 "metadata": {
  "kernelspec": {
   "display_name": "Python 3.8.10 ('.venv': venv)",
   "language": "python",
   "name": "python3"
  },
  "language_info": {
   "codemirror_mode": {
    "name": "ipython",
    "version": 3
   },
   "file_extension": ".py",
   "mimetype": "text/x-python",
   "name": "python",
   "nbconvert_exporter": "python",
   "pygments_lexer": "ipython3",
   "version": "3.8.10"
  },
  "vscode": {
   "interpreter": {
    "hash": "dd3b2f3f70e53b51b6a11b95690f705f4b206915c791b840b94c0056c908d8d0"
   }
  }
 },
 "nbformat": 4,
 "nbformat_minor": 4
}
