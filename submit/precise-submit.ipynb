{
 "cells": [
  {
   "cell_type": "code",
   "execution_count": 1,
   "id": "3dda7438",
   "metadata": {
    "_cell_guid": "b1076dfc-b9ad-4769-8c92-a6c4dae69d19",
    "_uuid": "8f2839f25d086af736a60e9eeb907d3b93b6e0e5",
    "execution": {
     "iopub.execute_input": "2022-03-31T16:06:04.856265Z",
     "iopub.status.busy": "2022-03-31T16:06:04.855551Z",
     "iopub.status.idle": "2022-03-31T16:06:04.868763Z",
     "shell.execute_reply": "2022-03-31T16:06:04.868014Z",
     "shell.execute_reply.started": "2022-03-31T15:39:07.087976Z"
    },
    "papermill": {
     "duration": 0.033282,
     "end_time": "2022-03-31T16:06:04.868945",
     "exception": false,
     "start_time": "2022-03-31T16:06:04.835663",
     "status": "completed"
    },
    "tags": []
   },
   "outputs": [
    {
     "name": "stdout",
     "output_type": "stream",
     "text": [
      "/kaggle/input/precise-combine/rps_6_20_2022-04-03.csv\n",
      "/kaggle/input/precise-combine/ir_22_16_2022-04-03.csv\n",
      "/kaggle/input/precise-combine/ir_36_16_2022-04-03.csv\n",
      "/kaggle/input/precise-combine/ir_34_16_2022-04-03.csv\n",
      "/kaggle/input/precise-combine/ir_3_16_2022-04-03.csv\n",
      "/kaggle/input/precise-combine/rps_6_3_2022-04-03.csv\n",
      "/kaggle/input/precise-combine/rps_6_1_2022-04-03.csv\n",
      "/kaggle/input/precise-combine/ir_24_16_2022-04-03.csv\n",
      "/kaggle/input/precise-combine/__results__.html\n",
      "/kaggle/input/precise-combine/rps_21_9_2022-04-03.csv\n",
      "/kaggle/input/precise-combine/rps_21_20_2022-04-03.csv\n",
      "/kaggle/input/precise-combine/ir_23_16_2022-04-03.csv\n",
      "/kaggle/input/precise-combine/__notebook__.ipynb\n",
      "/kaggle/input/precise-combine/rps_6_9_2022-04-03.csv\n",
      "/kaggle/input/precise-combine/rps_21_16_2022-04-03.csv\n",
      "/kaggle/input/precise-combine/__output__.json\n",
      "/kaggle/input/precise-combine/ir_49_14_2022-04-03.csv\n",
      "/kaggle/input/precise-combine/rps_21_1_2022-04-03.csv\n",
      "/kaggle/input/precise-combine/ir_35_16_2022-04-03.csv\n",
      "/kaggle/input/precise-combine/custom.css\n"
     ]
    }
   ],
   "source": [
    "# This Python 3 environment comes with many helpful analytics libraries installed\n",
    "# It is defined by the kaggle/python Docker image: https://github.com/kaggle/docker-python\n",
    "# For example, here's several helpful packages to load\n",
    "\n",
    "import numpy as np # linear algebra\n",
    "import pandas as pd # data processing, CSV file I/O (e.g. pd.read_csv)\n",
    "\n",
    "# Input data files are available in the read-only \"../input/\" directory\n",
    "# For example, running this (by clicking run or pressing Shift+Enter) will list all files under the input directory\n",
    "\n",
    "import os\n",
    "for dirname, _, filenames in os.walk('/kaggle/input'):\n",
    "    for filename in filenames:\n",
    "        print(os.path.join(dirname, filename))\n",
    "\n",
    "# You can write up to 20GB to the current directory (/kaggle/working/) that gets preserved as output when you create a version using \"Save & Run All\" \n",
    "# You can also write temporary files to /kaggle/temp/, but they won't be saved outside of the current session"
   ]
  },
  {
   "cell_type": "code",
   "execution_count": 2,
   "id": "a96a68b5",
   "metadata": {
    "execution": {
     "iopub.execute_input": "2022-03-31T16:06:04.892273Z",
     "iopub.status.busy": "2022-03-31T16:06:04.888584Z",
     "iopub.status.idle": "2022-03-31T16:06:04.952668Z",
     "shell.execute_reply": "2022-03-31T16:06:04.953208Z",
     "shell.execute_reply.started": "2022-03-31T15:42:26.746442Z"
    },
    "papermill": {
     "duration": 0.075705,
     "end_time": "2022-03-31T16:06:04.953396",
     "exception": false,
     "start_time": "2022-03-31T16:06:04.877691",
     "status": "completed"
    },
    "tags": []
   },
   "outputs": [],
   "source": [
    "import glob\n",
    "\n",
    "rps_files = glob.glob('/kaggle/input/precise-combine/rps*.csv')\n",
    "rps_dfs = []\n",
    "for file in rps_files:\n",
    "    rps_dfs.append(pd.read_csv(file).drop(columns=['ID', 'Decision']))\n",
    "rps_sub = rps_dfs[0]\n",
    "for file in rps_dfs[1:]:\n",
    "    rps_sub = rps_sub + file\n",
    "rps_sub = rps_sub/len(rps_dfs)\n",
    "rps_sub = (rps_sub / rps_sub.sum(axis=1).to_numpy()[:, np.newaxis])\n",
    "rps_sub = rps_sub.round(5)\n",
    "rps_sub['Rank5'] = 1-rps_sub.drop(columns='Rank5').sum(axis=1)\n",
    "rps_sub = rps_sub.round(5)"
   ]
  },
  {
   "cell_type": "code",
   "execution_count": 3,
   "id": "09e157a9",
   "metadata": {
    "execution": {
     "iopub.execute_input": "2022-03-31T16:06:04.975462Z",
     "iopub.status.busy": "2022-03-31T16:06:04.974766Z",
     "iopub.status.idle": "2022-03-31T16:06:05.021699Z",
     "shell.execute_reply": "2022-03-31T16:06:05.022336Z",
     "shell.execute_reply.started": "2022-03-31T15:45:09.904997Z"
    },
    "papermill": {
     "duration": 0.061107,
     "end_time": "2022-03-31T16:06:05.022548",
     "exception": false,
     "start_time": "2022-03-31T16:06:04.961441",
     "status": "completed"
    },
    "tags": []
   },
   "outputs": [],
   "source": [
    "ir_files = glob.glob('/kaggle/input/precise-combine/ir*.csv')\n",
    "ir_dfs = []\n",
    "for file in ir_files:\n",
    "    ir_dfs.append(pd.read_csv(file)['Decision'])\n",
    "ir_sub = ir_dfs[0]\n",
    "for file in ir_dfs[1:]:\n",
    "    ir_sub = ir_sub + file\n",
    "ir_sub = ir_sub/len(ir_dfs)\n",
    "ir_sub = ir_sub.round(5)"
   ]
  },
  {
   "cell_type": "code",
   "execution_count": 4,
   "id": "4a653052",
   "metadata": {
    "execution": {
     "iopub.execute_input": "2022-03-31T16:06:05.041744Z",
     "iopub.status.busy": "2022-03-31T16:06:05.041090Z",
     "iopub.status.idle": "2022-03-31T16:06:05.049767Z",
     "shell.execute_reply": "2022-03-31T16:06:05.050332Z",
     "shell.execute_reply.started": "2022-03-31T15:46:23.746320Z"
    },
    "papermill": {
     "duration": 0.019834,
     "end_time": "2022-03-31T16:06:05.050509",
     "exception": false,
     "start_time": "2022-03-31T16:06:05.030675",
     "status": "completed"
    },
    "tags": []
   },
   "outputs": [],
   "source": [
    "sub = pd.read_csv(glob.glob('/kaggle/input/precise-combine/rps*.csv')[0])\n",
    "sub[['Rank1', 'Rank2', 'Rank3', 'Rank4', 'Rank5']] = rps_sub\n",
    "sub['Decision'] = ir_sub"
   ]
  },
  {
   "cell_type": "code",
   "execution_count": 5,
   "id": "f28d59b1",
   "metadata": {
    "execution": {
     "iopub.execute_input": "2022-03-31T16:06:05.069425Z",
     "iopub.status.busy": "2022-03-31T16:06:05.068757Z",
     "iopub.status.idle": "2022-03-31T16:06:05.091349Z",
     "shell.execute_reply": "2022-03-31T16:06:05.091843Z",
     "shell.execute_reply.started": "2022-03-31T15:46:25.216370Z"
    },
    "papermill": {
     "duration": 0.033541,
     "end_time": "2022-03-31T16:06:05.092010",
     "exception": false,
     "start_time": "2022-03-31T16:06:05.058469",
     "status": "completed"
    },
    "tags": []
   },
   "outputs": [
    {
     "data": {
      "text/html": [
       "<div>\n",
       "<style scoped>\n",
       "    .dataframe tbody tr th:only-of-type {\n",
       "        vertical-align: middle;\n",
       "    }\n",
       "\n",
       "    .dataframe tbody tr th {\n",
       "        vertical-align: top;\n",
       "    }\n",
       "\n",
       "    .dataframe thead th {\n",
       "        text-align: right;\n",
       "    }\n",
       "</style>\n",
       "<table border=\"1\" class=\"dataframe\">\n",
       "  <thead>\n",
       "    <tr style=\"text-align: right;\">\n",
       "      <th></th>\n",
       "      <th>ID</th>\n",
       "      <th>Rank1</th>\n",
       "      <th>Rank2</th>\n",
       "      <th>Rank3</th>\n",
       "      <th>Rank4</th>\n",
       "      <th>Rank5</th>\n",
       "      <th>Decision</th>\n",
       "    </tr>\n",
       "  </thead>\n",
       "  <tbody>\n",
       "    <tr>\n",
       "      <th>0</th>\n",
       "      <td>ABBV</td>\n",
       "      <td>0.171925</td>\n",
       "      <td>0.216025</td>\n",
       "      <td>0.222550</td>\n",
       "      <td>0.223825</td>\n",
       "      <td>0.165675</td>\n",
       "      <td>-0.010592</td>\n",
       "    </tr>\n",
       "    <tr>\n",
       "      <th>1</th>\n",
       "      <td>ACN</td>\n",
       "      <td>0.220775</td>\n",
       "      <td>0.189325</td>\n",
       "      <td>0.180425</td>\n",
       "      <td>0.191600</td>\n",
       "      <td>0.217875</td>\n",
       "      <td>0.014336</td>\n",
       "    </tr>\n",
       "    <tr>\n",
       "      <th>2</th>\n",
       "      <td>AEP</td>\n",
       "      <td>0.167025</td>\n",
       "      <td>0.219725</td>\n",
       "      <td>0.220800</td>\n",
       "      <td>0.220175</td>\n",
       "      <td>0.172275</td>\n",
       "      <td>0.012431</td>\n",
       "    </tr>\n",
       "    <tr>\n",
       "      <th>3</th>\n",
       "      <td>AIZ</td>\n",
       "      <td>0.184100</td>\n",
       "      <td>0.209675</td>\n",
       "      <td>0.206150</td>\n",
       "      <td>0.211300</td>\n",
       "      <td>0.188775</td>\n",
       "      <td>0.010406</td>\n",
       "    </tr>\n",
       "    <tr>\n",
       "      <th>4</th>\n",
       "      <td>ALLE</td>\n",
       "      <td>0.199225</td>\n",
       "      <td>0.203825</td>\n",
       "      <td>0.194450</td>\n",
       "      <td>0.203500</td>\n",
       "      <td>0.199000</td>\n",
       "      <td>-0.012977</td>\n",
       "    </tr>\n",
       "    <tr>\n",
       "      <th>...</th>\n",
       "      <td>...</td>\n",
       "      <td>...</td>\n",
       "      <td>...</td>\n",
       "      <td>...</td>\n",
       "      <td>...</td>\n",
       "      <td>...</td>\n",
       "      <td>...</td>\n",
       "    </tr>\n",
       "    <tr>\n",
       "      <th>95</th>\n",
       "      <td>XLC</td>\n",
       "      <td>0.196000</td>\n",
       "      <td>0.199575</td>\n",
       "      <td>0.200500</td>\n",
       "      <td>0.203025</td>\n",
       "      <td>0.200900</td>\n",
       "      <td>-0.012346</td>\n",
       "    </tr>\n",
       "    <tr>\n",
       "      <th>96</th>\n",
       "      <td>XLU</td>\n",
       "      <td>0.155325</td>\n",
       "      <td>0.225725</td>\n",
       "      <td>0.231725</td>\n",
       "      <td>0.226025</td>\n",
       "      <td>0.161200</td>\n",
       "      <td>-0.010224</td>\n",
       "    </tr>\n",
       "    <tr>\n",
       "      <th>97</th>\n",
       "      <td>XLP</td>\n",
       "      <td>0.151275</td>\n",
       "      <td>0.229000</td>\n",
       "      <td>0.238975</td>\n",
       "      <td>0.228575</td>\n",
       "      <td>0.152175</td>\n",
       "      <td>-0.010691</td>\n",
       "    </tr>\n",
       "    <tr>\n",
       "      <th>98</th>\n",
       "      <td>XLB</td>\n",
       "      <td>0.177750</td>\n",
       "      <td>0.213750</td>\n",
       "      <td>0.212125</td>\n",
       "      <td>0.218250</td>\n",
       "      <td>0.178125</td>\n",
       "      <td>-0.011196</td>\n",
       "    </tr>\n",
       "    <tr>\n",
       "      <th>99</th>\n",
       "      <td>VXX</td>\n",
       "      <td>0.303175</td>\n",
       "      <td>0.134475</td>\n",
       "      <td>0.129400</td>\n",
       "      <td>0.131425</td>\n",
       "      <td>0.301525</td>\n",
       "      <td>0.017932</td>\n",
       "    </tr>\n",
       "  </tbody>\n",
       "</table>\n",
       "<p>100 rows × 7 columns</p>\n",
       "</div>"
      ],
      "text/plain": [
       "      ID     Rank1     Rank2     Rank3     Rank4     Rank5  Decision\n",
       "0   ABBV  0.171925  0.216025  0.222550  0.223825  0.165675 -0.010592\n",
       "1    ACN  0.220775  0.189325  0.180425  0.191600  0.217875  0.014336\n",
       "2    AEP  0.167025  0.219725  0.220800  0.220175  0.172275  0.012431\n",
       "3    AIZ  0.184100  0.209675  0.206150  0.211300  0.188775  0.010406\n",
       "4   ALLE  0.199225  0.203825  0.194450  0.203500  0.199000 -0.012977\n",
       "..   ...       ...       ...       ...       ...       ...       ...\n",
       "95   XLC  0.196000  0.199575  0.200500  0.203025  0.200900 -0.012346\n",
       "96   XLU  0.155325  0.225725  0.231725  0.226025  0.161200 -0.010224\n",
       "97   XLP  0.151275  0.229000  0.238975  0.228575  0.152175 -0.010691\n",
       "98   XLB  0.177750  0.213750  0.212125  0.218250  0.178125 -0.011196\n",
       "99   VXX  0.303175  0.134475  0.129400  0.131425  0.301525  0.017932\n",
       "\n",
       "[100 rows x 7 columns]"
      ]
     },
     "execution_count": 5,
     "metadata": {},
     "output_type": "execute_result"
    }
   ],
   "source": [
    "sub"
   ]
  },
  {
   "cell_type": "code",
   "execution_count": 6,
   "id": "63ee9705",
   "metadata": {
    "execution": {
     "iopub.execute_input": "2022-03-31T16:06:05.112381Z",
     "iopub.status.busy": "2022-03-31T16:06:05.111694Z",
     "iopub.status.idle": "2022-03-31T16:06:05.120430Z",
     "shell.execute_reply": "2022-03-31T16:06:05.119808Z"
    },
    "papermill": {
     "duration": 0.020112,
     "end_time": "2022-03-31T16:06:05.120573",
     "exception": false,
     "start_time": "2022-03-31T16:06:05.100461",
     "status": "completed"
    },
    "tags": []
   },
   "outputs": [],
   "source": [
    "sub.to_csv('submission.csv', index=False)"
   ]
  }
 ],
 "metadata": {
  "kernelspec": {
   "display_name": "Python 3",
   "language": "python",
   "name": "python3"
  },
  "language_info": {
   "codemirror_mode": {
    "name": "ipython",
    "version": 3
   },
   "file_extension": ".py",
   "mimetype": "text/x-python",
   "name": "python",
   "nbconvert_exporter": "python",
   "pygments_lexer": "ipython3",
   "version": "3.7.12"
  },
  "papermill": {
   "default_parameters": {},
   "duration": 10.616143,
   "end_time": "2022-03-31T16:06:05.738516",
   "environment_variables": {},
   "exception": null,
   "input_path": "__notebook__.ipynb",
   "output_path": "__notebook__.ipynb",
   "parameters": {},
   "start_time": "2022-03-31T16:05:55.122373",
   "version": "2.3.3"
  }
 },
 "nbformat": 4,
 "nbformat_minor": 5
}
