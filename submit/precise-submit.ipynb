{
 "cells": [
  {
   "cell_type": "code",
   "execution_count": null,
   "id": "3dda7438",
   "metadata": {
    "_cell_guid": "b1076dfc-b9ad-4769-8c92-a6c4dae69d19",
    "_uuid": "8f2839f25d086af736a60e9eeb907d3b93b6e0e5",
    "papermill": {
     "duration": 0.033282,
     "end_time": "2022-03-31T16:06:04.868945",
     "exception": false,
     "start_time": "2022-03-31T16:06:04.835663",
     "status": "completed"
    },
    "tags": []
   },
   "outputs": [],
   "source": [
    "# This Python 3 environment comes with many helpful analytics libraries installed\n",
    "# It is defined by the kaggle/python Docker image: https://github.com/kaggle/docker-python\n",
    "# For example, here's several helpful packages to load\n",
    "\n",
    "import numpy as np # linear algebra\n",
    "import pandas as pd # data processing, CSV file I/O (e.g. pd.read_csv)\n",
    "\n",
    "# Input data files are available in the read-only \"../input/\" directory\n",
    "# For example, running this (by clicking run or pressing Shift+Enter) will list all files under the input directory\n",
    "\n",
    "import os\n",
    "for dirname, _, filenames in os.walk('/kaggle/input'):\n",
    "    for filename in filenames:\n",
    "        print(os.path.join(dirname, filename))\n",
    "\n",
    "# You can write up to 20GB to the current directory (/kaggle/working/) that gets preserved as output when you create a version using \"Save & Run All\" \n",
    "# You can also write temporary files to /kaggle/temp/, but they won't be saved outside of the current session"
   ]
  },
  {
   "cell_type": "code",
   "execution_count": null,
   "id": "a96a68b5",
   "metadata": {
    "papermill": {
     "duration": 0.075705,
     "end_time": "2022-03-31T16:06:04.953396",
     "exception": false,
     "start_time": "2022-03-31T16:06:04.877691",
     "status": "completed"
    },
    "tags": []
   },
   "outputs": [],
   "source": [
    "import glob\n",
    "\n",
    "rps_files = glob.glob('/kaggle/input/precise-combine/rps*.csv')\n",
    "rps_dfs = []\n",
    "for file in rps_files:\n",
    "    rps_dfs.append(pd.read_csv(file).drop(columns=['ID', 'Decision']))\n",
    "rps_sub = rps_dfs[0]\n",
    "for file in rps_dfs[1:]:\n",
    "    rps_sub = rps_sub + file\n",
    "rps_sub = rps_sub/len(rps_dfs)\n",
    "rps_sub = (rps_sub / rps_sub.sum(axis=1).to_numpy()[:, np.newaxis])\n",
    "rps_sub = rps_sub.round(5)\n",
    "rps_sub['Rank5'] = 1-rps_sub.drop(columns='Rank5').sum(axis=1)\n",
    "rps_sub = rps_sub.round(5)"
   ]
  },
  {
   "cell_type": "code",
   "execution_count": null,
   "id": "09e157a9",
   "metadata": {
    "papermill": {
     "duration": 0.061107,
     "end_time": "2022-03-31T16:06:05.022548",
     "exception": false,
     "start_time": "2022-03-31T16:06:04.961441",
     "status": "completed"
    },
    "tags": []
   },
   "outputs": [],
   "source": [
    "ir_files = glob.glob('/kaggle/input/precise-combine/rps*.csv')\n",
    "ir_dfs = []\n",
    "for file in ir_files:\n",
    "    ir_dfs.append(pd.read_csv(file)['Decision'])\n",
    "ir_sub = ir_dfs[0]\n",
    "for file in ir_dfs[1:]:\n",
    "    ir_sub = ir_sub + file\n",
    "ir_sub = ir_sub/len(ir_dfs)\n",
    "ir_sub = ir_sub.round(5)\n",
    "if ir_sub.abs().sum() < .25:\n",
    "    ir_sub = (ir_sub/(ir_sub.abs().sum()/.251))\n",
    "    ir_sub = ir_sub.round(5)\n",
    "print(ir_sub.abs().sum())"
   ]
  },
  {
   "cell_type": "code",
   "execution_count": null,
   "id": "aeb5227d",
   "metadata": {},
   "outputs": [],
   "source": [
    "ir_sub.abs().sum()"
   ]
  },
  {
   "cell_type": "code",
   "execution_count": null,
   "id": "4a653052",
   "metadata": {
    "papermill": {
     "duration": 0.019834,
     "end_time": "2022-03-31T16:06:05.050509",
     "exception": false,
     "start_time": "2022-03-31T16:06:05.030675",
     "status": "completed"
    },
    "tags": []
   },
   "outputs": [],
   "source": [
    "sub = pd.read_csv(glob.glob('/kaggle/input/precise-combine/rps*.csv')[0])\n",
    "sub[['Rank1', 'Rank2', 'Rank3', 'Rank4', 'Rank5']] = rps_sub\n",
    "sub['Decision'] = ir_sub"
   ]
  },
  {
   "cell_type": "code",
   "execution_count": null,
   "id": "f28d59b1",
   "metadata": {
    "papermill": {
     "duration": 0.033541,
     "end_time": "2022-03-31T16:06:05.092010",
     "exception": false,
     "start_time": "2022-03-31T16:06:05.058469",
     "status": "completed"
    },
    "tags": []
   },
   "outputs": [],
   "source": [
    "sub"
   ]
  },
  {
   "cell_type": "code",
   "execution_count": null,
   "id": "63ee9705",
   "metadata": {
    "papermill": {
     "duration": 0.020112,
     "end_time": "2022-03-31T16:06:05.120573",
     "exception": false,
     "start_time": "2022-03-31T16:06:05.100461",
     "status": "completed"
    },
    "tags": []
   },
   "outputs": [],
   "source": [
    "sub.to_csv('submission.csv', index=False)"
   ]
  }
 ],
 "metadata": {
  "kernelspec": {
   "display_name": "Python 3",
   "language": "python",
   "name": "python3"
  },
  "language_info": {
   "codemirror_mode": {
    "name": "ipython",
    "version": 3
   },
   "file_extension": ".py",
   "mimetype": "text/x-python",
   "name": "python",
   "nbconvert_exporter": "python",
   "pygments_lexer": "ipython3",
   "version": "3.7.12"
  },
  "papermill": {
   "default_parameters": {},
   "duration": 10.616143,
   "end_time": "2022-03-31T16:06:05.738516",
   "environment_variables": {},
   "exception": null,
   "input_path": "__notebook__.ipynb",
   "output_path": "__notebook__.ipynb",
   "parameters": {},
   "start_time": "2022-03-31T16:05:55.122373",
   "version": "2.3.3"
  }
 },
 "nbformat": 4,
 "nbformat_minor": 5
}
