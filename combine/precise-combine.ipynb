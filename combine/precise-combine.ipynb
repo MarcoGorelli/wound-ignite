{
 "cells": [
  {
   "cell_type": "code",
   "execution_count": null,
   "id": "b1743bb2",
   "metadata": {
    "_cell_guid": "b1076dfc-b9ad-4769-8c92-a6c4dae69d19",
    "_uuid": "8f2839f25d086af736a60e9eeb907d3b93b6e0e5",
    "papermill": {
     "duration": 0.059348,
     "end_time": "2022-03-31T14:47:26.215768",
     "exception": false,
     "start_time": "2022-03-31T14:47:26.156420",
     "status": "completed"
    },
    "tags": []
   },
   "outputs": [],
   "source": [
    "#### This Python 3 environment comes with many helpful analytics libraries installed\n",
    "# It is defined by the kaggle/python Docker image: https://github.com/kaggle/docker-python\n",
    "# For example, here's several helpful packages to load\n",
    "\n",
    "import numpy as np # linear algebra\n",
    "import pandas as pd # data processing, CSV file I/O (e.g. pd.read_csv)\n",
    "\n",
    "# Input data files are available in the read-only \"../input/\" directory\n",
    "# For example, running this (by clicking run or pressing Shift+Enter) will list all files under the input directory\n",
    "\n",
    "import os\n",
    "for dirname, _, filenames in os.walk('/kaggle/input'):\n",
    "    for filename in filenames:\n",
    "        print(os.path.join(dirname, filename))\n",
    "\n",
    "# You can write up to 20GB to the current directory (/kaggle/working/) that gets preserved as output when you create a version using \"Save & Run All\" \n",
    "# You can also write temporary files to /kaggle/temp/, but they won't be saved outside of the current session"
   ]
  },
  {
   "cell_type": "code",
   "execution_count": null,
   "id": "a29971fd",
   "metadata": {},
   "outputs": [],
   "source": [
    "from kaggle_secrets import UserSecretsClient\n",
    "user_secrets = UserSecretsClient()\n",
    "token = user_secrets.get_secret(\"github\")"
   ]
  },
  {
   "cell_type": "code",
   "execution_count": null,
   "id": "1ccccc2e",
   "metadata": {
    "papermill": {
     "duration": 26.149173,
     "end_time": "2022-03-31T14:47:52.372080",
     "exception": false,
     "start_time": "2022-03-31T14:47:26.222907",
     "status": "completed"
    },
    "tags": []
   },
   "outputs": [],
   "source": [
    "!pip install git+https://{token}@github.com/MarcoGorelli/wound-ignite.git@8d8e5c6f4fbd7eaed7e6b2022e2ee7982051c7d5"
   ]
  },
  {
   "cell_type": "code",
   "execution_count": null,
   "id": "57ea718c",
   "metadata": {
    "papermill": {
     "duration": 1224.661849,
     "end_time": "2022-03-31T15:08:17.083010",
     "exception": false,
     "start_time": "2022-03-31T14:47:52.421161",
     "status": "completed"
    },
    "tags": []
   },
   "outputs": [],
   "source": [
    "from precise.skatertools.m6.competition import m6_competition_entry, m6_dump\n",
    "from precise.whereami import M6_EXAMPLES\n",
    "import os\n",
    "import time\n",
    "import json\n",
    "import argparse\n",
    "import pandas as pd\n",
    "\n",
    "from precise.skaters.covariance.allcovskaters import ALL_D0_SKATERS\n",
    "from precise.skaters.portfoliostatic.allstaticport import  PORT\n",
    "from tqdm.notebook import tqdm\n",
    "\n",
    "# Example of creating an M6 Competition entry using random choice of cov estimation and port construction\n",
    "final_candidates = pd.read_csv('/kaggle/input/find-best-from-cv/final_candidates.csv')\n",
    "BEST_F = final_candidates['f'].tolist()\n",
    "BEST_PORT = final_candidates['port'].tolist()\n",
    "BEST_SCALING = final_candidates['scaling'].tolist()\n",
    "\n",
    "\n",
    "for f, port, scaling in zip(BEST_F, BEST_PORT, BEST_SCALING):\n",
    "    for last_date in pd.date_range(end=pd.Timestamp.now(), periods=1, freq='W-Fri'):\n",
    "        try:\n",
    "            df = m6_competition_entry(\n",
    "                f=ALL_D0_SKATERS[f],\n",
    "                port=PORT[port],\n",
    "                last_date=last_date,\n",
    "                scale_w=scaling,\n",
    "                cache_path='/kaggle/input/precise-cache/'\n",
    "            )\n",
    "            name = f'rps_{f}_{port}_{scaling}_{last_date}.csv'\n",
    "            m6_dump(df=df,file_name=name)\n",
    "        except Exception as e:\n",
    "            print(repr(e))\n",
    "            pass"
   ]
  },
  {
   "cell_type": "code",
   "execution_count": null,
   "id": "33f77410",
   "metadata": {
    "papermill": {
     "duration": 0.060978,
     "end_time": "2022-03-31T15:08:17.205511",
     "exception": false,
     "start_time": "2022-03-31T15:08:17.144533",
     "status": "completed"
    },
    "tags": []
   },
   "outputs": [],
   "source": []
  }
 ],
 "metadata": {
  "kernelspec": {
   "display_name": "Python 3 (ipykernel)",
   "language": "python",
   "name": "python3"
  },
  "language_info": {
   "codemirror_mode": {
    "name": "ipython",
    "version": 3
   },
   "file_extension": ".py",
   "mimetype": "text/x-python",
   "name": "python",
   "nbconvert_exporter": "python",
   "pygments_lexer": "ipython3",
   "version": "3.9.2"
  },
  "papermill": {
   "default_parameters": {},
   "duration": 1264.315557,
   "end_time": "2022-03-31T15:08:20.006290",
   "environment_variables": {},
   "exception": null,
   "input_path": "__notebook__.ipynb",
   "output_path": "__notebook__.ipynb",
   "parameters": {},
   "start_time": "2022-03-31T14:47:15.690733",
   "version": "2.3.3"
  }
 },
 "nbformat": 4,
 "nbformat_minor": 5
}
